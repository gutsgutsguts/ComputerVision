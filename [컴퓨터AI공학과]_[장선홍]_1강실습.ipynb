{
  "nbformat": 4,
  "nbformat_minor": 0,
  "metadata": {
    "colab": {
      "provenance": [],
      "authorship_tag": "ABX9TyOFAQ70PC16jIgO73gTyzmS",
      "include_colab_link": true
    },
    "kernelspec": {
      "name": "python3",
      "display_name": "Python 3"
    },
    "language_info": {
      "name": "python"
    }
  },
  "cells": [
    {
      "cell_type": "markdown",
      "metadata": {
        "id": "view-in-github",
        "colab_type": "text"
      },
      "source": [
        "<a href=\"https://colab.research.google.com/github/gutsgutsguts/ComputerVision/blob/main/%5B%EC%BB%B4%ED%93%A8%ED%84%B0AI%EA%B3%B5%ED%95%99%EA%B3%BC%5D_%5B%EC%9E%A5%EC%84%A0%ED%99%8D%5D_1%EA%B0%95%EC%8B%A4%EC%8A%B5.ipynb\" target=\"_parent\"><img src=\"https://colab.research.google.com/assets/colab-badge.svg\" alt=\"Open In Colab\"/></a>"
      ]
    },
    {
      "cell_type": "markdown",
      "source": [
        "1. 코랩을 사용해 파이썬의 4가지 자료구조(리스트, 튜플, 셋, 딕셔너리)의 특징을 잘 설명할 수 있는 예시 코드를 코드 셀에 작성하세요.\n",
        "\n",
        "\n",
        "\n",
        "\n",
        "  리스트 : 순서존재, 수정가능 중복가능\n",
        "\n",
        "  튜플 : 순서존재, 수정불가, 중복가능\n",
        "\n",
        "  셋 : 순서무, 수정가능, 중복불가\n",
        "  (셋은 순서가 없기때문에 인덱스가 없음 )\n",
        "\n",
        "  딕셔너리 : 순서존재, 수정가능, 중복불가, 키 : 밸류값"
      ],
      "metadata": {
        "id": "ATckc7RZXOqc"
      }
    },
    {
      "cell_type": "code",
      "source": [
        "list = [\"오이\", \"오이\", \"양파\", \"가지\"]\n",
        "tuple = (\"오이\", \"오이\", \"양파\", \"가지\")\n",
        "set = {\"오이\", \"양파\", \"가지\", \"오이\"}\n",
        "dict = {\"오이\":1, \"오이\":1, \"양파\":2, \"가지\":3}\n",
        "\n",
        "print(list)\n",
        "print(tuple)\n",
        "print(set)\n",
        "print(dict)\n",
        "\n",
        "list[0] = \"당근\"\n",
        "# tuple[0] = \"당근\"\n",
        "# set[0] = \"당근\"\n",
        "dict[\"오이\"] = \"당근\"\n",
        "\n",
        "print(list)\n",
        "# print(tuple)\n",
        "# print(set)\n",
        "print(dict)\n",
        "\n",
        "\n"
      ],
      "metadata": {
        "colab": {
          "base_uri": "https://localhost:8080/"
        },
        "id": "LtkrJmIGX9U3",
        "outputId": "2f662da6-96a3-4ca1-edbe-e372f917920a"
      },
      "execution_count": null,
      "outputs": [
        {
          "output_type": "stream",
          "name": "stdout",
          "text": [
            "['오이', '오이', '양파', '가지']\n",
            "('오이', '오이', '양파', '가지')\n",
            "{'오이', '가지', '양파'}\n",
            "{'오이': 1, '양파': 2, '가지': 3}\n",
            "['당근', '오이', '양파', '가지']\n",
            "{'오이': '당근', '양파': 2, '가지': 3}\n"
          ]
        }
      ]
    },
    {
      "cell_type": "markdown",
      "source": [
        "2. 텍스트 셀에 간단한 마크다운 문서를 제작 후 코랩 링크를 토론 게시판에 공유해주세요. (공유 링크 권한을 모두가 볼 수 있도록 설정해야 합니다.)\n",
        "\n",
        "<h1>안녕하세요 </h1>\n",
        "\n",
        "<b3>컴퓨터 AI 공학과 3학년 장선홍입니다</b3><br>\n",
        "<b3>한학기 재밌게 공부했으면 좋겠습니다</b3><br>\n",
        "<b3>모두들 화이팅</b3>"
      ],
      "metadata": {
        "id": "YMnHdsWwZvh0"
      }
    }
  ]
}